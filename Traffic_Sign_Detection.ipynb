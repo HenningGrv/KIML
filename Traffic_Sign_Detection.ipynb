{
 "cells": [
  {
   "cell_type": "markdown",
   "metadata": {},
   "source": [
    "Datenquelle: https://benchmark.ini.rub.de/gtsrb_dataset.html\n",
    "\n",
    "\n",
    "Vision Transformer statt Basic ding?"
   ]
  },
  {
   "cell_type": "code",
   "execution_count": 1,
   "metadata": {},
   "outputs": [
    {
     "name": "stdout",
     "output_type": "stream",
     "text": [
      "WARNING:tensorflow:From c:\\Users\\henni\\miniconda3\\envs\\AI\\Lib\\site-packages\\keras\\src\\losses.py:2976: The name tf.losses.sparse_softmax_cross_entropy is deprecated. Please use tf.compat.v1.losses.sparse_softmax_cross_entropy instead.\n",
      "\n"
     ]
    }
   ],
   "source": [
    "import os\n",
    "import numpy as np\n",
    "from PIL import Image\n",
    "import matplotlib.pyplot as plt\n",
    "from sklearn.preprocessing import OneHotEncoder\n",
    "import tensorflow as tf\n",
    "from tensorflow.keras.models import Model\n",
    "from tensorflow.keras.layers import Input, Dense, Conv2D, MaxPooling2D, Dropout, Flatten"
   ]
  },
  {
   "cell_type": "markdown",
   "metadata": {},
   "source": [
    "## Loading Images"
   ]
  },
  {
   "cell_type": "code",
   "execution_count": 9,
   "metadata": {},
   "outputs": [
    {
     "ename": "AttributeError",
     "evalue": "'list' object has no attribute 'shape'",
     "output_type": "error",
     "traceback": [
      "\u001b[1;31m---------------------------------------------------------------------------\u001b[0m",
      "\u001b[1;31mAttributeError\u001b[0m                            Traceback (most recent call last)",
      "\u001b[1;32mc:\\Users\\henni\\OneDrive\\Desktop\\FH Krams\\3. Semester\\KIML\\Traffic Signs\\Traffic_Sign_Detection.ipynb Zelle 4\u001b[0m line \u001b[0;36m1\n\u001b[0;32m     <a href='vscode-notebook-cell:/c%3A/Users/henni/OneDrive/Desktop/FH%20Krams/3.%20Semester/KIML/Traffic%20Signs/Traffic_Sign_Detection.ipynb#W4sZmlsZQ%3D%3D?line=11'>12</a>\u001b[0m     \u001b[39mreturn\u001b[39;00m np\u001b[39m.\u001b[39masarray([np\u001b[39m.\u001b[39masarray(img) \u001b[39mfor\u001b[39;00m img \u001b[39min\u001b[39;00m images])\n\u001b[0;32m     <a href='vscode-notebook-cell:/c%3A/Users/henni/OneDrive/Desktop/FH%20Krams/3.%20Semester/KIML/Traffic%20Signs/Traffic_Sign_Detection.ipynb#W4sZmlsZQ%3D%3D?line=13'>14</a>\u001b[0m \u001b[39m#def num_rows():\u001b[39;00m\n\u001b[1;32m---> <a href='vscode-notebook-cell:/c%3A/Users/henni/OneDrive/Desktop/FH%20Krams/3.%20Semester/KIML/Traffic%20Signs/Traffic_Sign_Detection.ipynb#W4sZmlsZQ%3D%3D?line=15'>16</a>\u001b[0m \u001b[39mprint\u001b[39m(images\u001b[39m.\u001b[39;49mshape)\n\u001b[0;32m     <a href='vscode-notebook-cell:/c%3A/Users/henni/OneDrive/Desktop/FH%20Krams/3.%20Semester/KIML/Traffic%20Signs/Traffic_Sign_Detection.ipynb#W4sZmlsZQ%3D%3D?line=17'>18</a>\u001b[0m \u001b[39mprint\u001b[39m(num_rows)\n\u001b[0;32m     <a href='vscode-notebook-cell:/c%3A/Users/henni/OneDrive/Desktop/FH%20Krams/3.%20Semester/KIML/Traffic%20Signs/Traffic_Sign_Detection.ipynb#W4sZmlsZQ%3D%3D?line=19'>20</a>\u001b[0m \u001b[39m#Get File Names\u001b[39;00m\n",
      "\u001b[1;31mAttributeError\u001b[0m: 'list' object has no attribute 'shape'"
     ]
    }
   ],
   "source": [
    "def get_filenames(filepath):\n",
    "    return [os.path.join(filepath, filename) for filename in os.listdir(filepath)] #Alle Bilder aus Ordnern holen aus Filepath + Filename \n",
    "\n",
    "def read_images(filenames, height=None, width=None):\n",
    "    images = [Image.open(filename) for filename in filenames]\n",
    "    if (not height is None) and (not width is None):\n",
    "        images = [img.resize((width, height)) for img in images]\n",
    "    \n",
    "    return images\n",
    "\n",
    "def images_to_array(images):\n",
    "    return np.asarray([np.asarray(img) for img in images])\n",
    "\n",
    "#def num_rows():\n",
    "\n",
    "print(images.shape)\n",
    "\n",
    "print(num_rows)\n",
    "\n",
    "#Get File Names\n",
    "filepath = \"C:/Users/henni/OneDrive/Desktop/FH Krams/3. Semester/KIML/Traffic Signs/Data\"\n",
    "image_names = get_filenames(filepath)\n",
    "\n",
    "#Load Images\n",
    "input_shape = {\n",
    "    \"height\": 200,\n",
    "    \"width\": 200,\n",
    "    \"channels\": 3\n",
    "}\n",
    "images = read_images(image_names, height=input_shape[\"height\"], width=input_shape[\"width\"])\n",
    "\n",
    "# Convert images to array\n",
    "aimages = images_to_array(images)\n",
    "print(f'Shape of images array: {aimages.shape}')\n",
    "\n",
    "# Plot images array\n",
    "#display(Image.fromarray(aimages[11]))\n",
    "fig = plt.figure(figsize=(8, 8))\n",
    "rows, columns = 1, 6\n",
    "for i in range(aimages.shape[0]):\n",
    "    fig.add_subplot(rows, columns, i+1)\n",
    "    plt.imshow(aimages[i, ...])\n",
    "plt.show()"
   ]
  }
 ],
 "metadata": {
  "kernelspec": {
   "display_name": "AI",
   "language": "python",
   "name": "python3"
  },
  "language_info": {
   "codemirror_mode": {
    "name": "ipython",
    "version": 3
   },
   "file_extension": ".py",
   "mimetype": "text/x-python",
   "name": "python",
   "nbconvert_exporter": "python",
   "pygments_lexer": "ipython3",
   "version": "3.11.5"
  }
 },
 "nbformat": 4,
 "nbformat_minor": 2
}
