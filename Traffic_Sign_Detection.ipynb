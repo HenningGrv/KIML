{
 "cells": [
  {
   "cell_type": "markdown",
   "metadata": {},
   "source": [
    "Datenquelle: https://benchmark.ini.rub.de/gtsrb_dataset.html\n",
    "\n",
    "\n",
    "HALLO WIE GEHT ES"
   ]
  }
 ],
 "metadata": {
  "kernelspec": {
   "display_name": "AI",
   "language": "python",
   "name": "python3"
  },
  "language_info": {
   "name": "python",
   "version": "3.11.5"
  }
 },
 "nbformat": 4,
 "nbformat_minor": 2
}
